{
 "cells": [
  {
   "cell_type": "markdown",
   "id": "765a2965",
   "metadata": {},
   "source": [
    "This notebook contains a method to run a t-test on a .csv to determine if there is a statistically significant difference between EJ variables for a given list of zip codes and the nation as a whole. The <code>usepop</code> variable determines the type of t-test to be used. If False, the method uses a student's t-test; if True, the method uses Welch's unequal variance t-test, which is designed to compare sample groups of different populations. The method using Welch's t-test is recommended, as populations differ between zip codes."
   ]
  },
  {
   "cell_type": "code",
   "execution_count": 6,
   "id": "165fd76a",
   "metadata": {},
   "outputs": [],
   "source": [
    "import scipy.stats, pandas, pyprojroot\n",
    "\n",
    "zip_ej = pyprojroot.here('./data/outputs/ZCTA_EJ_special.csv')\n",
    "usa_df = pandas.read_csv(zip_ej).set_index('Unnamed: 0')\n",
    "\n",
    "def ttest(loc, usepop=True, col='Identified as disadvantaged'):\n",
    "    testdf = pyprojroot.here('./data/matched/' + loc)\n",
    "    a=pandas.read_csv(testdf)[col]\n",
    "    b=usa_df[col]\n",
    "    return scipy.stats.ttest_ind(a, b, equal_var=(not usepop), nan_policy='omit')"
   ]
  },
  {
   "cell_type": "code",
   "execution_count": 9,
   "id": "3e7991d1",
   "metadata": {},
   "outputs": [
    {
     "data": {
      "text/plain": [
       "Ttest_indResult(statistic=80.67093367899153, pvalue=0.0)"
      ]
     },
     "execution_count": 9,
     "metadata": {},
     "output_type": "execute_result"
    }
   ],
   "source": [
    "ttest('EPA-HQ-OAR-2015-0827-4102_attachment_1.csv', col='Traffic proximity and volume (percentile)')"
   ]
  }
 ],
 "metadata": {
  "kernelspec": {
   "display_name": "Python 3 (ipykernel)",
   "language": "python",
   "name": "python3"
  },
  "language_info": {
   "codemirror_mode": {
    "name": "ipython",
    "version": 3
   },
   "file_extension": ".py",
   "mimetype": "text/x-python",
   "name": "python",
   "nbconvert_exporter": "python",
   "pygments_lexer": "ipython3",
   "version": "3.10.5"
  }
 },
 "nbformat": 4,
 "nbformat_minor": 5
}
