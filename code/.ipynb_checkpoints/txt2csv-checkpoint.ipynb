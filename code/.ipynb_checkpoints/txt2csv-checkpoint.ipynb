{
 "cells": [
  {
   "cell_type": "code",
   "execution_count": 2,
   "id": "11c2ee0b",
   "metadata": {},
   "outputs": [],
   "source": [
    "import pandas, pyprojroot\n",
    "\n",
    "infile = pyprojroot.here('./data/inputs/zcta_tract_rel_10.txt')\n",
    "outpath = pyprojroot.here('./data/inputs/zcta2tract10.csv') #yes, the output goes into the input folder, since it's an input for the main join\n",
    "\n",
    "df = pandas.read_csv(infile)\n",
    "df.to_csv(outpath)"
   ]
  }
 ],
 "metadata": {
  "kernelspec": {
   "display_name": "Python 3 (ipykernel)",
   "language": "python",
   "name": "python3"
  },
  "language_info": {
   "codemirror_mode": {
    "name": "ipython",
    "version": 3
   },
   "file_extension": ".py",
   "mimetype": "text/x-python",
   "name": "python",
   "nbconvert_exporter": "python",
   "pygments_lexer": "ipython3",
   "version": "3.10.5"
  }
 },
 "nbformat": 4,
 "nbformat_minor": 5
}
