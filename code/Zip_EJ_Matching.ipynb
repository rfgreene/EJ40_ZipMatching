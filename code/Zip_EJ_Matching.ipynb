{
 "cells": [
  {
   "cell_type": "code",
   "execution_count": 13,
   "id": "0bf79a57",
   "metadata": {},
   "outputs": [
    {
     "name": "stdout",
     "output_type": "stream",
     "text": [
      "What is the file you would like to match? Please include the extension (.csv)\n",
      "EPA-HQ-OAR-2013-0479-8769_attachment_2.csv\n",
      "Matching complete!\n"
     ]
    }
   ],
   "source": [
    "import pandas, pyprojroot, warnings\n",
    "\n",
    "#set up files, prompting user for input (file must be in project folder under data > inputs)\n",
    "print('What is the file you would like to match? Please include the extension (.csv)')\n",
    "filename = input()\n",
    "file = pyprojroot.here('./data/inputs/' + filename)\n",
    "zip_ej = pyprojroot.here('./data/outputs/ZCTA_EJ.csv')\n",
    "\n",
    "#pull zip codes and create array of proportions of EJ communities in those zip codes\n",
    "zipcode_col = \"Zip Code\" #if your file has a different column title for its zip codes, replace this variable.\n",
    "df = pandas.read_csv(file)\n",
    "df = df.dropna(axis='columns', how='all')\n",
    "lookup = pandas.read_csv(zip_ej)\n",
    "zips = df[zipcode_col]\n",
    "ej_prob = [0] * len(zips)\n",
    "for i in range(0, len(zips)):\n",
    "    z = int(str(zips[i])[0:5]) #only taking the first 5 characters clears up any zips that are entered as zip+4\n",
    "    ej_prob[i] = lookup.at[i, 'percent_ej']\n",
    "\n",
    "#append the array and create the output file\n",
    "df.insert(len(df.columns), 'Percent EJ', ej_prob)\n",
    "with warnings.catch_warnings():\n",
    "    warnings.simplefilter(\"ignore\")\n",
    "    outpath = pyprojroot.here('./data/outputs/' + filename[0:-4] + '_EJmatched.csv')\n",
    "df.to_csv(outpath)\n",
    "print('Matching complete!')"
   ]
  },
  {
   "cell_type": "code",
   "execution_count": null,
   "id": "76956688",
   "metadata": {},
   "outputs": [],
   "source": []
  }
 ],
 "metadata": {
  "kernelspec": {
   "display_name": "Python 3 (ipykernel)",
   "language": "python",
   "name": "python3"
  },
  "language_info": {
   "codemirror_mode": {
    "name": "ipython",
    "version": 3
   },
   "file_extension": ".py",
   "mimetype": "text/x-python",
   "name": "python",
   "nbconvert_exporter": "python",
   "pygments_lexer": "ipython3",
   "version": "3.10.5"
  }
 },
 "nbformat": 4,
 "nbformat_minor": 5
}
