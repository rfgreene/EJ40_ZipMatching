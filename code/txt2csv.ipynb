{
 "cells": [
  {
   "cell_type": "code",
   "execution_count": 15,
   "id": "11c2ee0b",
   "metadata": {},
   "outputs": [],
   "source": [
    "import pandas\n",
    "\n",
    "infile = r'/Users/robert/Downloads/_Python/EJ40/tab20_zcta520_tract20_natl.txt' #ideally this would use here() but I believe that's R-exclusive\n",
    "outpath = r'/Users/robert/Downloads/_Python/EJ40/ZCTA2tract.csv'\n",
    "\n",
    "df = pandas.read_csv(infile, sep='|')\n",
    "df.to_csv(outpath)"
   ]
  }
 ],
 "metadata": {
  "kernelspec": {
   "display_name": "Python 3 (ipykernel)",
   "language": "python",
   "name": "python3"
  },
  "language_info": {
   "codemirror_mode": {
    "name": "ipython",
    "version": 3
   },
   "file_extension": ".py",
   "mimetype": "text/x-python",
   "name": "python",
   "nbconvert_exporter": "python",
   "pygments_lexer": "ipython3",
   "version": "3.10.5"
  }
 },
 "nbformat": 4,
 "nbformat_minor": 5
}
